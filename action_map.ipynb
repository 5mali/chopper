{
 "cells": [
  {
   "cell_type": "code",
   "execution_count": 1,
   "metadata": {},
   "outputs": [],
   "source": [
    "# %matplotlib inline\n",
    "%matplotlib ipympl\n",
    "\n",
    "from IPython.display import clear_output\n",
    "\n",
    "from datetime import datetime\n",
    "import os\n",
    "from os.path import dirname, abspath, join\n",
    "from os import getcwd\n",
    "import sys\n",
    "\n",
    "import random\n",
    "import string\n",
    "import pandas as pd\n",
    "import numpy as np\n",
    "\n",
    "import matplotlib.pyplot as plt\n",
    "import matplotlib.ticker as ticker\n",
    "from mpl_toolkits.mplot3d import Axes3D\n",
    "\n",
    "\n",
    "import torch\n",
    "import torch.nn as nn\n",
    "import torch.nn.functional as F"
   ]
  },
  {
   "cell_type": "code",
   "execution_count": 2,
   "metadata": {},
   "outputs": [],
   "source": [
    "from __future__ import print_function\n",
    "from ipywidgets import interact, interactive, fixed, interact_manual\n",
    "import ipywidgets as widgets"
   ]
  },
  {
   "cell_type": "code",
   "execution_count": 3,
   "metadata": {},
   "outputs": [],
   "source": [
    "#Class definitions for NN model and learning algorithm\n",
    "class Net(nn.Module):\n",
    "    def __init__(self):\n",
    "        super(Net, self).__init__()\n",
    "\n",
    "        self.fc1 = nn.Linear(N_STATES, HIDDEN_LAYER)\n",
    "        nn.init.kaiming_uniform_(self.fc1.weight)\n",
    "        \n",
    "#         self.fc2 = nn.Linear(HIDDEN_LAYER, HIDDEN_LAYER)\n",
    "#         nn.init.kaiming_uniform_(self.fc2.weight)\n",
    "        \n",
    "#         self.fc3 = nn.Linear(HIDDEN_LAYER, HIDDEN_LAYER)\n",
    "#         nn.init.kaiming_uniform_(self.fc3.weight)\n",
    "\n",
    "        self.fc_out = nn.Linear(HIDDEN_LAYER, N_ACTIONS)\n",
    "        nn.init.xavier_uniform_(self.fc_out.weight) \n",
    "    \n",
    "    def forward(self, x):\n",
    "        x = self.fc1(x)\n",
    "        if   (ACTIVATION==0): x = F.relu(x)\n",
    "        elif (ACTIVATION==1): x = F.leaky_relu(x)\n",
    "        else                : print(\"NN ACTIVATION: Error\")\n",
    "#         x = F.leaky_relu(x)\n",
    "#         x = self.fc2(x)\n",
    "#         x = F.relu(x)\n",
    "#         x = self.fc3(x)\n",
    "#         x = F.relu(x)\n",
    "        x = self.fc_out(x)\n",
    "        return x\n",
    "    \n",
    "class DQN(object):\n",
    "    def __init__(self):\n",
    "        if(GPU): \n",
    "            device = torch.device(\"cuda:0\" if torch.cuda.is_available() else \"cpu\")\n",
    "        else:\n",
    "            device = torch.device('cpu')\n",
    "        self.eval_net = Net()\n",
    "        self.eval_net.to(device)\n",
    "        self.device = device\n",
    "        print(\"Neural net:\")\n",
    "        print(self.eval_net)\n",
    "\n",
    "  \n",
    "    def get_qvals(self,x):\n",
    "        x = torch.unsqueeze(torch.FloatTensor(x), 0)\n",
    "        x = x.to(self.device)\n",
    "        actions_value = self.eval_net.forward(x)\n",
    "        actions_value = actions_value.to(torch.device(\"cpu\"))\n",
    "        actions_value = actions_value.data.numpy()\n",
    "        return actions_value\n",
    "    \n",
    "    def choose_greedy_action(self, x):\n",
    "        x = torch.unsqueeze(torch.FloatTensor(x), 0)\n",
    "        x = x.to(self.device)\n",
    "\n",
    "        # input only one sample\n",
    "        if True:   # greedy\n",
    "            actions_value = self.eval_net.forward(x)\n",
    "            actions_value = actions_value.to(torch.device(\"cpu\"))\n",
    "            action = torch.max(actions_value, 1)[1].data.numpy()\n",
    "            action = action[0] # return the argmax index\n",
    "        return action"
   ]
  },
  {
   "cell_type": "code",
   "execution_count": 4,
   "metadata": {},
   "outputs": [],
   "source": [
    "def stdize(s):\n",
    "    MU_BATT = 0.5\n",
    "    SD_BATT = 0.15\n",
    "    \n",
    "    MU_ENP = 0\n",
    "    SD_ENP = 0.15\n",
    "    \n",
    "    MU_HENERGY = 0.35\n",
    "    SD_HENERGY = 0.25\n",
    "    \n",
    "    MU_FCAST = 0.42\n",
    "    SD_FCAST = 0.27\n",
    "    \n",
    "    norm_batt, norm_enp, norm_henergy, norm_fcast = s\n",
    "    \n",
    "    std_batt    = (norm_batt    - MU_BATT    )/SD_BATT\n",
    "    std_enp     = (norm_enp     - MU_ENP     )/SD_ENP\n",
    "    std_henergy = (norm_henergy - MU_HENERGY )/SD_HENERGY\n",
    "    std_fcast   = (norm_fcast   - MU_FCAST   )/SD_FCAST\n",
    "\n",
    "    return [std_batt, std_enp, std_henergy, std_fcast]"
   ]
  },
  {
   "cell_type": "code",
   "execution_count": 5,
   "metadata": {},
   "outputs": [],
   "source": [
    "BMAX          = 10000\n",
    "HMAX          = 1000\n",
    "NO_OF_DAYTYPE = 10"
   ]
  },
  {
   "cell_type": "code",
   "execution_count": 6,
   "metadata": {},
   "outputs": [],
   "source": [
    "# Hyper Parameters\n",
    "N_ACTIONS           = 10           #no. of duty cycles (0 to 9)\n",
    "N_STATES            = 4            #number of state space parameter [batt, enp, henergy, fcast]\n",
    "GPU                 = False\n",
    "ACTIVATION          = 0            # 0 = RELU, 1 = Leaky RELU\n",
    "HIDDEN_LAYER        = 50"
   ]
  },
  {
   "cell_type": "code",
   "execution_count": 7,
   "metadata": {},
   "outputs": [],
   "source": [
    "NAME = \"I1\"\n",
    "seed_arg = 4"
   ]
  },
  {
   "cell_type": "code",
   "execution_count": 8,
   "metadata": {},
   "outputs": [],
   "source": [
    "seedlist = np.array([161, 314, 228, 271828, 230, 4271031, 5526538, 6610165, 9849252, 34534, 73422, 8765])\n",
    "seed = seedlist[seed_arg]\n",
    "random.seed(seed)\n",
    "torch.manual_seed(seed)\n",
    "torch.cuda.manual_seed(seed)\n",
    "np.random.seed(seed)\n",
    "os.environ['PYTHONHASHSEED'] = str(seed)"
   ]
  },
  {
   "cell_type": "code",
   "execution_count": 9,
   "metadata": {},
   "outputs": [
    {
     "name": "stdout",
     "output_type": "stream",
     "text": [
      "MODEL NAME:  I1_230.pt\n"
     ]
    }
   ],
   "source": [
    "MODELNAME  = NAME + '_' + str(seed) + '.pt'\n",
    "print(\"MODEL NAME: \", MODELNAME)\n",
    "S_FILENAME = './models/'+ MODELNAME"
   ]
  },
  {
   "cell_type": "code",
   "execution_count": 10,
   "metadata": {},
   "outputs": [
    {
     "name": "stdout",
     "output_type": "stream",
     "text": [
      "Neural net:\n",
      "Net(\n",
      "  (fc1): Linear(in_features=4, out_features=50, bias=True)\n",
      "  (fc_out): Linear(in_features=50, out_features=10, bias=True)\n",
      ")\n"
     ]
    },
    {
     "data": {
      "text/plain": [
       "Net(\n",
       "  (fc1): Linear(in_features=4, out_features=50, bias=True)\n",
       "  (fc_out): Linear(in_features=50, out_features=10, bias=True)\n",
       ")"
      ]
     },
     "execution_count": 10,
     "metadata": {},
     "output_type": "execute_result"
    }
   ],
   "source": [
    "dqn = DQN()\n",
    "dqn.eval_net.load_state_dict(torch.load(S_FILENAME))\n",
    "dqn.eval_net.eval()"
   ]
  },
  {
   "cell_type": "code",
   "execution_count": 11,
   "metadata": {},
   "outputs": [],
   "source": [
    "def get_max_qval(batt, enp, henergy, fcast):\n",
    "    norm_batt    = batt    /BMAX\n",
    "    norm_enp     = enp     /BMAX\n",
    "    norm_henergy = henergy /HMAX\n",
    "    norm_fcast   = fcast   /(NO_OF_DAYTYPE-1)\n",
    "    \n",
    "    state = [norm_batt, norm_enp, norm_henergy, norm_fcast]\n",
    "    s = stdize(state)\n",
    "    qval = dqn.get_qvals(s).flatten()\n",
    "    max_qval = np.max(qval)\n",
    "       \n",
    "    return max_qval\n",
    "    "
   ]
  },
  {
   "cell_type": "code",
   "execution_count": 12,
   "metadata": {},
   "outputs": [],
   "source": [
    "def get_best_action(batt, enp, henergy, fcast):\n",
    "    \n",
    "    norm_batt    = batt    /BMAX\n",
    "    norm_enp     = enp     /BMAX\n",
    "    norm_henergy = henergy /HMAX\n",
    "    norm_fcast   = fcast   /(NO_OF_DAYTYPE-1)\n",
    "    \n",
    "    state = [norm_batt, norm_enp, norm_henergy, norm_fcast]\n",
    "    s = stdize(state)\n",
    "    greedy_action = dqn.choose_greedy_action(s)\n",
    "    \n",
    "    return greedy_action"
   ]
  },
  {
   "cell_type": "code",
   "execution_count": 15,
   "metadata": {},
   "outputs": [],
   "source": [
    "def actionmap(batt, fcast):\n",
    "    plt.clf()\n",
    "    print(\"BATT   :\", batt,    end='\\t\\t\\t\\t')\n",
    "    print(\"FCAST  :\", fcast)\n",
    "    \n",
    "    BATT = batt\n",
    "    FCAST = fcast\n",
    "        \n",
    "    enp     = np.linspace(-BMAX/2, BMAX/2, 100)\n",
    "    henergy = np.linspace(0,       HMAX,   100)\n",
    "\n",
    "\n",
    "    X, Y = np.meshgrid(enp, henergy)\n",
    "    Z = vec_best_action(BATT, X, Y, FCAST)\n",
    "    \n",
    "    my_cmap = plt.cm.get_cmap('jet', 11)\n",
    "    \n",
    "    im = plt.imshow(Z, cmap=my_cmap, vmax = 9, vmin=0)\n",
    "    plt.xlabel(\"ENP\")\n",
    "    plt.ylabel(\"Harvested Energy\")\n",
    "\n",
    "#     ax.set_title('Best Actions');\n",
    "#     ax.set_xlabel(\"ENP\");\n",
    "#     im.set_ylabel(\"Harvested Energy\");\n",
    "    fig.colorbar(im)\n",
    "    plt.show()\n",
    "    return 0"
   ]
  },
  {
   "cell_type": "code",
   "execution_count": 16,
   "metadata": {},
   "outputs": [
    {
     "data": {
      "application/vnd.jupyter.widget-view+json": {
       "model_id": "36286cd789ba4a889a5400b1f81fd395",
       "version_major": 2,
       "version_minor": 0
      },
      "text/plain": [
       "FigureCanvasNbAgg()"
      ]
     },
     "metadata": {},
     "output_type": "display_data"
    },
    {
     "data": {
      "application/vnd.jupyter.widget-view+json": {
       "model_id": "273f07c7ef1242c2a228cc924dc7ac2b",
       "version_major": 2,
       "version_minor": 0
      },
      "text/plain": [
       "HBox(children=(IntSlider(value=5000, max=10000, step=50), IntSlider(value=3, max=9)))"
      ]
     },
     "metadata": {},
     "output_type": "display_data"
    },
    {
     "data": {
      "application/vnd.jupyter.widget-view+json": {
       "model_id": "07967176c8ee41d580d5ecfc2b9044f7",
       "version_major": 2,
       "version_minor": 0
      },
      "text/plain": [
       "Output()"
      ]
     },
     "metadata": {},
     "output_type": "display_data"
    }
   ],
   "source": [
    "batt    = widgets.IntSlider(min=0,    max=BMAX,  step=50, value=BMAX/2)\n",
    "fcast   = widgets.IntSlider(min=0,max=9,step=1,value=3)\n",
    "vec_best_action = np.vectorize(get_best_action)\n",
    "\n",
    "ui = widgets.HBox([batt,fcast])\n",
    "fig = plt.figure(figsize=(10,7))\n",
    "out = widgets.interactive_output(actionmap, {'batt':batt, 'fcast': fcast})\n",
    "display(ui, out)"
   ]
  },
  {
   "cell_type": "code",
   "execution_count": null,
   "metadata": {},
   "outputs": [],
   "source": []
  }
 ],
 "metadata": {
  "kernelspec": {
   "display_name": "Python 3",
   "language": "python",
   "name": "python3"
  },
  "language_info": {
   "codemirror_mode": {
    "name": "ipython",
    "version": 3
   },
   "file_extension": ".py",
   "mimetype": "text/x-python",
   "name": "python",
   "nbconvert_exporter": "python",
   "pygments_lexer": "ipython3",
   "version": "3.7.1"
  }
 },
 "nbformat": 4,
 "nbformat_minor": 2
}
