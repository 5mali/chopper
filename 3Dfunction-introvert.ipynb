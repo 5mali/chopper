{
 "cells": [
  {
   "cell_type": "code",
   "execution_count": 1,
   "metadata": {},
   "outputs": [],
   "source": [
    "# %matplotlib inline\n",
    "%matplotlib ipympl\n",
    "\n",
    "from IPython.display import clear_output\n",
    "\n",
    "from datetime import datetime\n",
    "import os\n",
    "from os.path import dirname, abspath, join\n",
    "from os import getcwd\n",
    "import sys\n",
    "\n",
    "import random\n",
    "import string\n",
    "import pandas as pd\n",
    "import numpy as np\n",
    "\n",
    "import matplotlib.pyplot as plt\n",
    "import matplotlib.ticker as ticker\n",
    "from mpl_toolkits.mplot3d import Axes3D\n",
    "\n",
    "\n",
    "import torch\n",
    "import torch.nn as nn\n",
    "import torch.nn.functional as F"
   ]
  },
  {
   "cell_type": "code",
   "execution_count": 2,
   "metadata": {},
   "outputs": [],
   "source": [
    "def f(x, y):\n",
    "    return np.sin(np.sqrt(x ** 2 + y ** 2))"
   ]
  },
  {
   "cell_type": "code",
   "execution_count": 3,
   "metadata": {},
   "outputs": [],
   "source": [
    "x = np.linspace(-1, 1, 30)\n",
    "y = np.linspace(-1, 1, 30)\n",
    "\n",
    "X, Y = np.meshgrid(x, y)\n",
    "Z = f(X, Y)"
   ]
  },
  {
   "cell_type": "code",
   "execution_count": 4,
   "metadata": {},
   "outputs": [
    {
     "data": {
      "application/vnd.jupyter.widget-view+json": {
       "model_id": "7b520a3bd6524c8f8808c624fbd757f4",
       "version_major": 2,
       "version_minor": 0
      },
      "text/plain": [
       "FigureCanvasNbAgg()"
      ]
     },
     "metadata": {},
     "output_type": "display_data"
    }
   ],
   "source": [
    "fig = plt.figure(figsize=(5,5))\n",
    "ax = plt.axes(projection='3d')\n",
    "ax.plot_surface(X, Y, Z, rstride=1, cstride=1,\n",
    "                cmap='viridis', edgecolor='none')\n",
    "ax.set_title('surface');"
   ]
  },
  {
   "cell_type": "code",
   "execution_count": 5,
   "metadata": {},
   "outputs": [],
   "source": [
    "import torch\n",
    "import torch.nn as nn\n",
    "import torch.nn.functional as F\n",
    "import numpy as np\n",
    "\n",
    "#Class definitions for NN model and learning algorithm\n",
    "class Net(nn.Module):\n",
    "    def __init__(self):\n",
    "        super(Net, self).__init__()\n",
    "\n",
    "        self.fc1 = nn.Linear(N_STATES, HIDDEN_LAYER)\n",
    "        nn.init.kaiming_uniform_(self.fc1.weight)\n",
    "        \n",
    "#         self.fc2 = nn.Linear(HIDDEN_LAYER, HIDDEN_LAYER)\n",
    "#         nn.init.kaiming_uniform_(self.fc2.weight)\n",
    "        \n",
    "#         self.fc3 = nn.Linear(HIDDEN_LAYER, HIDDEN_LAYER)\n",
    "#         nn.init.kaiming_uniform_(self.fc3.weight)\n",
    "\n",
    "        self.fc_out = nn.Linear(HIDDEN_LAYER, N_ACTIONS)\n",
    "        nn.init.xavier_uniform_(self.fc_out.weight) \n",
    "    \n",
    "    def forward(self, x):\n",
    "        x = self.fc1(x)\n",
    "        if   (ACTIVATION==0): x = F.relu(x)\n",
    "        elif (ACTIVATION==1): x = F.leaky_relu(x)\n",
    "        else                : print(\"NN ACTIVATION: Error\")\n",
    "#         x = F.leaky_relu(x)\n",
    "#         x = self.fc2(x)\n",
    "#         x = F.relu(x)\n",
    "#         x = self.fc3(x)\n",
    "#         x = F.relu(x)\n",
    "        x = self.fc_out(x)\n",
    "        return x\n",
    "    \n",
    "class DQN(object):\n",
    "    def __init__(self):\n",
    "        if(GPU): \n",
    "            device = torch.device(\"cuda:0\" if torch.cuda.is_available() else \"cpu\")\n",
    "        else:\n",
    "            device = torch.device('cpu')\n",
    "        self.eval_net = Net()\n",
    "        self.eval_net.to(device)\n",
    "        self.device = device\n",
    "        print(\"Neural net:\")\n",
    "        print(self.eval_net)\n",
    "\n",
    "  \n",
    "    def get_qvals(self,x):\n",
    "        x = torch.unsqueeze(torch.FloatTensor(x), 0)\n",
    "        x = x.to(self.device)\n",
    "        actions_value = self.eval_net.forward(x)\n",
    "        actions_value = actions_value.to(torch.device(\"cpu\"))\n",
    "        actions_value = actions_value.data.numpy()\n",
    "        return actions_value\n",
    "    \n",
    "    def choose_greedy_action(self, x):\n",
    "        x = torch.unsqueeze(torch.FloatTensor(x), 0)\n",
    "        x = x.to(self.device)\n",
    "\n",
    "        # input only one sample\n",
    "        if True:   # greedy\n",
    "            actions_value = self.eval_net.forward(x)\n",
    "            actions_value = actions_value.to(torch.device(\"cpu\"))\n",
    "            action = torch.max(actions_value, 1)[1].data.numpy()\n",
    "            action = action[0] # return the argmax index\n",
    "        return action"
   ]
  },
  {
   "cell_type": "code",
   "execution_count": 6,
   "metadata": {},
   "outputs": [],
   "source": [
    "def stdize(s):\n",
    "    MU_BATT = 0.5\n",
    "    SD_BATT = 0.15\n",
    "    \n",
    "    MU_ENP = 0\n",
    "    SD_ENP = 0.15\n",
    "    \n",
    "    MU_HENERGY = 0.35\n",
    "    SD_HENERGY = 0.25\n",
    "    \n",
    "    MU_FCAST = 0.42\n",
    "    SD_FCAST = 0.27\n",
    "    \n",
    "    norm_batt, norm_enp, norm_henergy, norm_fcast = s\n",
    "    \n",
    "    std_batt    = (norm_batt    - MU_BATT    )/SD_BATT\n",
    "    std_enp     = (norm_enp     - MU_ENP     )/SD_ENP\n",
    "    std_henergy = (norm_henergy - MU_HENERGY )/SD_HENERGY\n",
    "    std_fcast   = (norm_fcast   - MU_FCAST   )/SD_FCAST\n",
    "\n",
    "    return [std_batt, std_enp, std_henergy, std_fcast]"
   ]
  },
  {
   "cell_type": "code",
   "execution_count": 7,
   "metadata": {},
   "outputs": [],
   "source": [
    "BMAX          = 10000\n",
    "HMAX          = 1000\n",
    "NO_OF_DAYTYPE = 10"
   ]
  },
  {
   "cell_type": "code",
   "execution_count": 8,
   "metadata": {},
   "outputs": [],
   "source": [
    "# Hyper Parameters\n",
    "N_ACTIONS           = 10           #no. of duty cycles (0 to 9)\n",
    "N_STATES            = 4            #number of state space parameter [batt, enp, henergy, fcast]\n",
    "GPU                 = False\n",
    "ACTIVATION          = 0            # 0 = RELU, 1 = Leaky RELU\n",
    "HIDDEN_LAYER        = 50"
   ]
  },
  {
   "cell_type": "code",
   "execution_count": 9,
   "metadata": {},
   "outputs": [],
   "source": [
    "NAME = \"I1\"\n",
    "seed_arg = 4"
   ]
  },
  {
   "cell_type": "code",
   "execution_count": 10,
   "metadata": {},
   "outputs": [],
   "source": [
    "seedlist = np.array([161, 314, 228, 271828, 230, 4271031, 5526538, 6610165, 9849252, 34534, 73422, 8765])\n",
    "seed = seedlist[seed_arg]\n",
    "random.seed(seed)\n",
    "torch.manual_seed(seed)\n",
    "torch.cuda.manual_seed(seed)\n",
    "np.random.seed(seed)\n",
    "os.environ['PYTHONHASHSEED'] = str(seed)"
   ]
  },
  {
   "cell_type": "code",
   "execution_count": 11,
   "metadata": {},
   "outputs": [
    {
     "name": "stdout",
     "output_type": "stream",
     "text": [
      "MODEL NAME:  I1_230.pt\n"
     ]
    }
   ],
   "source": [
    "MODELNAME  = NAME + '_' + str(seed) + '.pt'\n",
    "print(\"MODEL NAME: \", MODELNAME)\n",
    "S_FILENAME = './models/'+ MODELNAME"
   ]
  },
  {
   "cell_type": "code",
   "execution_count": 12,
   "metadata": {},
   "outputs": [
    {
     "name": "stdout",
     "output_type": "stream",
     "text": [
      "Neural net:\n",
      "Net(\n",
      "  (fc1): Linear(in_features=4, out_features=50, bias=True)\n",
      "  (fc_out): Linear(in_features=50, out_features=10, bias=True)\n",
      ")\n"
     ]
    },
    {
     "data": {
      "text/plain": [
       "Net(\n",
       "  (fc1): Linear(in_features=4, out_features=50, bias=True)\n",
       "  (fc_out): Linear(in_features=50, out_features=10, bias=True)\n",
       ")"
      ]
     },
     "execution_count": 12,
     "metadata": {},
     "output_type": "execute_result"
    }
   ],
   "source": [
    "dqn = DQN()\n",
    "dqn.eval_net.load_state_dict(torch.load(S_FILENAME))\n",
    "dqn.eval_net.eval()"
   ]
  },
  {
   "cell_type": "code",
   "execution_count": 13,
   "metadata": {},
   "outputs": [],
   "source": [
    "def get_max_qval(batt, enp, henergy, fcast):\n",
    "    norm_batt    = batt    /BMAX\n",
    "    norm_enp     = enp     /BMAX\n",
    "    norm_henergy = henergy /HMAX\n",
    "    norm_fcast   = fcast   /(NO_OF_DAYTYPE-1)\n",
    "    \n",
    "    state = [norm_batt, norm_enp, norm_henergy, norm_fcast]\n",
    "    s = stdize(state)\n",
    "    qval = dqn.get_qvals(s).flatten()\n",
    "    max_qval = np.max(qval)\n",
    "       \n",
    "    return max_qval\n",
    "    "
   ]
  },
  {
   "cell_type": "code",
   "execution_count": 14,
   "metadata": {},
   "outputs": [],
   "source": [
    "def get_best_action(batt, enp, henergy, fcast):\n",
    "    \n",
    "    norm_batt    = batt    /BMAX\n",
    "    norm_enp     = enp     /BMAX\n",
    "    norm_henergy = henergy /HMAX\n",
    "    norm_fcast   = fcast   /(NO_OF_DAYTYPE-1)\n",
    "    \n",
    "    state = [norm_batt, norm_enp, norm_henergy, norm_fcast]\n",
    "    s = stdize(state)\n",
    "    greedy_action = dqn.choose_greedy_action(s)\n",
    "    \n",
    "    return greedy_action"
   ]
  },
  {
   "cell_type": "code",
   "execution_count": 15,
   "metadata": {},
   "outputs": [],
   "source": [
    "# # batt    = np.linspace(0, BMAX, 50)\n",
    "# enp     = np.linspace(-BMAX/2,BMAX/2,50)\n",
    "# henergy = np.linspace(0, HMAX, 50)\n",
    "\n",
    "# vec_qval = np.vectorize(get_max_qval)\n",
    "\n",
    "# X, Y = np.meshgrid(enp, henergy)\n",
    "# Z = vec_qval(BATT, X, Y, FCAST)\n",
    "\n",
    "# fig = plt.figure(figsize=(10,10))\n",
    "# ax = plt.axes(projection='3d')\n",
    "# ax.plot_surface(X, Y, Z, rstride=1, cstride=1,\n",
    "#                 cmap='viridis', edgecolor='none')\n",
    "# ax.set_title('Greedy Q-values');\n",
    "# ax.set_xlabel(\"ENP\");\n",
    "# ax.set_ylabel(\"Harvested Energy\");\n"
   ]
  },
  {
   "cell_type": "code",
   "execution_count": 16,
   "metadata": {},
   "outputs": [],
   "source": [
    "BATT    = 0.8 * BMAX\n",
    "HENERGY = 0.7 * HMAX\n",
    "ENP     = 0.5*BMAX\n",
    "FCAST   = 1"
   ]
  },
  {
   "cell_type": "code",
   "execution_count": 17,
   "metadata": {},
   "outputs": [
    {
     "data": {
      "application/vnd.jupyter.widget-view+json": {
       "model_id": "af4dd5fe2d5e4deb825f8d3d45a06fa4",
       "version_major": 2,
       "version_minor": 0
      },
      "text/plain": [
       "FigureCanvasNbAgg()"
      ]
     },
     "metadata": {},
     "output_type": "display_data"
    }
   ],
   "source": [
    "\n",
    "enp     = np.linspace(-BMAX/2,BMAX/2,50)\n",
    "# batt    = np.linspace(0, BMAX, 50)\n",
    "henergy = np.linspace(0, HMAX, 50)\n",
    "\n",
    "vec_best_action = np.vectorize(get_best_action)\n",
    "\n",
    "X, Y = np.meshgrid(enp, henergy)\n",
    "Z = vec_best_action(BATT, X, Y, FCAST)\n",
    "\n",
    "fig = plt.figure(figsize=(10,7))\n",
    "ax = plt.axes(projection='3d')\n",
    "ax.plot_surface(X, Y, Z, rstride=1, cstride=1,\n",
    "                cmap='viridis', edgecolor='none')\n",
    "ax.set_title('Best Actions');\n",
    "ax.set_xlabel(\"ENP\");\n",
    "ax.set_ylabel(\"Harvested Energy\");\n"
   ]
  },
  {
   "cell_type": "code",
   "execution_count": 42,
   "metadata": {},
   "outputs": [],
   "source": [
    "QUANTIZATION_LEVEL = 10"
   ]
  },
  {
   "cell_type": "code",
   "execution_count": 43,
   "metadata": {},
   "outputs": [],
   "source": [
    "batt_s    = np.linspace(0,       BMAX,            QUANTIZATION_LEVEL)\n",
    "enp_s     = np.linspace(-BMAX/2, BMAX/2,          QUANTIZATION_LEVEL)\n",
    "henergy_s = np.linspace(0,       HMAX,            QUANTIZATION_LEVEL)\n",
    "fcast_s   = np.linspace(0,       NO_OF_DAYTYPE-1, NO_OF_DAYTYPE)\n"
   ]
  },
  {
   "cell_type": "code",
   "execution_count": 44,
   "metadata": {},
   "outputs": [],
   "source": [
    "B_, E_, H_, F_ = np.meshgrid(batt_s, enp_s, henergy_s, fcast_s)\n",
    "A = vec_best_action(B_, E_, H_, F_)"
   ]
  },
  {
   "cell_type": "code",
   "execution_count": 45,
   "metadata": {},
   "outputs": [
    {
     "data": {
      "text/plain": [
       "9"
      ]
     },
     "execution_count": 45,
     "metadata": {},
     "output_type": "execute_result"
    }
   ],
   "source": [
    "A[0,0,0,0]"
   ]
  },
  {
   "cell_type": "code",
   "execution_count": 36,
   "metadata": {},
   "outputs": [],
   "source": [
    "def quantizer(enp):\n",
    "    enp_state = np.floor((enp + BMAX/2)/QUANTIZATION_STEP)\n",
    "    return enp_state\n",
    "    "
   ]
  },
  {
   "cell_type": "code",
   "execution_count": 41,
   "metadata": {},
   "outputs": [
    {
     "ename": "AttributeError",
     "evalue": "'numpy.ndarray' object has no attribute 'find'",
     "output_type": "error",
     "traceback": [
      "\u001b[1;31m---------------------------------------------------------------------------\u001b[0m",
      "\u001b[1;31mAttributeError\u001b[0m                            Traceback (most recent call last)",
      "\u001b[1;32m<ipython-input-41-4152bb652e41>\u001b[0m in \u001b[0;36m<module>\u001b[1;34m\u001b[0m\n\u001b[1;32m----> 1\u001b[1;33m \u001b[0menp_s\u001b[0m\u001b[1;33m.\u001b[0m\u001b[0mfind\u001b[0m\u001b[1;33m(\u001b[0m\u001b[0menp_s\u001b[0m\u001b[1;33m[\u001b[0m\u001b[0menp_s\u001b[0m\u001b[1;33m>=\u001b[0m\u001b[1;36m50\u001b[0m\u001b[1;33m]\u001b[0m\u001b[1;33m[\u001b[0m\u001b[1;36m0\u001b[0m\u001b[1;33m]\u001b[0m\u001b[1;33m)\u001b[0m\u001b[1;33m\u001b[0m\u001b[1;33m\u001b[0m\u001b[0m\n\u001b[0m",
      "\u001b[1;31mAttributeError\u001b[0m: 'numpy.ndarray' object has no attribute 'find'"
     ]
    }
   ],
   "source": [
    "given enp_value\n",
    "find which index does enp_value lie in\n"
   ]
  },
  {
   "cell_type": "code",
   "execution_count": 35,
   "metadata": {},
   "outputs": [
    {
     "data": {
      "text/plain": [
       "array([-5000.        , -3888.88888889, -2777.77777778, -1666.66666667,\n",
       "        -555.55555556,   555.55555556,  1666.66666667,  2777.77777778,\n",
       "        3888.88888889,  5000.        ])"
      ]
     },
     "execution_count": 35,
     "metadata": {},
     "output_type": "execute_result"
    }
   ],
   "source": [
    "enp_s"
   ]
  },
  {
   "cell_type": "code",
   "execution_count": null,
   "metadata": {},
   "outputs": [],
   "source": [
    "from __future__ import print_function\n",
    "from ipywidgets import interact, interactive, fixed, interact_manual\n",
    "import ipywidgets as widgets"
   ]
  },
  {
   "cell_type": "code",
   "execution_count": null,
   "metadata": {},
   "outputs": [],
   "source": [
    "batt    = widgets.IntSlider(min=0,    max=BMAX,  step=50, value=BMAX/2)\n",
    "enp     = widgets.IntSlider(min=-BMAX,max=BMAX,  step=50, value=0)\n",
    "henergy = widgets.IntSlider(min=0,    max=HMAX,  step=50, value=HMAX/4)\n",
    "fcast   = widgets.IntSlider(min=0,max=9,step=1,value=3)\n",
    "ui = widgets.HBox([batt, enp, henergy, fcast])\n",
    "fig = plt.figure(figsize=(10,5))\n",
    "\n",
    "def qmap(batt, enp, henergy, fcast):\n",
    "    plt.clf()\n",
    "    print(\"BATT   :\", batt,    end='\\t\\t')\n",
    "    print(\"ENP    :\", enp,     end='\\t\\t')\n",
    "    print(\"HENERGY:\", henergy, end='\\t\\t')\n",
    "    print(\"FCAST  :\", fcast)\n",
    "    \n",
    "    norm_batt    = batt    /BMAX\n",
    "    norm_enp     = enp     /BMAX\n",
    "    norm_henergy = henergy /HMAX\n",
    "    norm_fcast   = fcast   /(NO_OF_DAYTYPE-1)\n",
    "    \n",
    "    state = [norm_batt, norm_enp, norm_henergy, norm_fcast]\n",
    "    s = stdize(state)\n",
    "\n",
    "    qval = dqn.get_qvals(s).flatten()\n",
    "    norm_qval = qval/np.max(qval)\n",
    "    plt.bar(np.arange(0,10),norm_qval)\n",
    "    \n",
    "    return fcast+3\n",
    "\n",
    "out = widgets.interactive_output(qmap, {'batt':batt, 'enp':enp, 'henergy':henergy, 'fcast': fcast})\n",
    "display(ui, out)"
   ]
  },
  {
   "cell_type": "code",
   "execution_count": null,
   "metadata": {},
   "outputs": [],
   "source": []
  },
  {
   "cell_type": "code",
   "execution_count": null,
   "metadata": {},
   "outputs": [],
   "source": []
  }
 ],
 "metadata": {
  "kernelspec": {
   "display_name": "Python 3",
   "language": "python",
   "name": "python3"
  },
  "language_info": {
   "codemirror_mode": {
    "name": "ipython",
    "version": 3
   },
   "file_extension": ".py",
   "mimetype": "text/x-python",
   "name": "python",
   "nbconvert_exporter": "python",
   "pygments_lexer": "ipython3",
   "version": "3.6.8"
  }
 },
 "nbformat": 4,
 "nbformat_minor": 2
}
